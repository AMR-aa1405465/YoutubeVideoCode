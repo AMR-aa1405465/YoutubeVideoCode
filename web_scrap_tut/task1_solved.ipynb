{
 "cells": [
  {
   "cell_type": "code",
   "execution_count": 1,
   "metadata": {},
   "outputs": [],
   "source": [
    "#Task 1\n",
    "#--------------\n",
    "#Scrap the books(title, price, rate) and put them into a csv file\n",
    "#http://books.toscrape.com/catalogue/category/books/science_22/index.html\n",
    "\n"
   ]
  },
  {
   "cell_type": "code",
   "execution_count": 2,
   "metadata": {},
   "outputs": [],
   "source": [
    "import requests\n",
    "from bs4 import BeautifulSoup"
   ]
  },
  {
   "cell_type": "code",
   "execution_count": 3,
   "metadata": {},
   "outputs": [],
   "source": [
    "url = \"http://books.toscrape.com/catalogue/category/books/science_22/index.html\"\n",
    "my_request = requests.get(url)\n",
    "soup = BeautifulSoup(my_request.content,'html.parser')\n",
    "\n"
   ]
  },
  {
   "cell_type": "code",
   "execution_count": 31,
   "metadata": {},
   "outputs": [],
   "source": [
    "myBooks = soup.find('ol',attrs={'class':'row'})\n",
    "listOfBooks = myBooks.find_all('li',attrs={'class':'col-xs-6 col-sm-4 col-md-3 col-lg-3'})\n"
   ]
  },
  {
   "cell_type": "code",
   "execution_count": 42,
   "metadata": {},
   "outputs": [],
   "source": [
    "titles=[]\n",
    "prices=[]\n",
    "ratings=[]\n",
    "\n",
    "for one_book in listOfBooks:\n",
    "    titles.append(extract_title(one_book))\n",
    "    prices.append( extract_price(one_book))\n",
    "    ratings.append( extract_rating(one_book))\n",
    "    \n",
    "#write to file \n",
    "with open('books_details.csv','w') as file :\n",
    "    file.write('Title,Price,Rating\\n')\n",
    "    for i in range(len(titles)):\n",
    "        file.write(f'{titles[i]},{prices[i]},{ratings[i]}\\n')\n",
    "    file.close()\n",
    "    "
   ]
  },
  {
   "cell_type": "code",
   "execution_count": 39,
   "metadata": {},
   "outputs": [],
   "source": [
    "def extract_title(li_element):\n",
    "    article=li_element.find('article')\n",
    "    h3 = article.find('h3')\n",
    "    title = h3.find('a').get('title')\n",
    "    return title.replace(',','.')"
   ]
  },
  {
   "cell_type": "code",
   "execution_count": 40,
   "metadata": {},
   "outputs": [],
   "source": [
    "def extract_price(li_element):\n",
    "    article=li_element.find('article')\n",
    "    return article.find('div',attrs={'class':'product_price'}).find('p',attrs={'class':'price_color'}).get_text()\n",
    "            \n",
    "     "
   ]
  },
  {
   "cell_type": "code",
   "execution_count": 41,
   "metadata": {},
   "outputs": [],
   "source": [
    "def extract_rating(li_element):\n",
    "    article=li_element.find('article')\n",
    "    rating = article.find('p').get('class')[1]\n",
    "    return rating"
   ]
  },
  {
   "cell_type": "code",
   "execution_count": null,
   "metadata": {},
   "outputs": [],
   "source": []
  }
 ],
 "metadata": {
  "kernelspec": {
   "display_name": "Python 3",
   "language": "python",
   "name": "python3"
  },
  "language_info": {
   "codemirror_mode": {
    "name": "ipython",
    "version": 3
   },
   "file_extension": ".py",
   "mimetype": "text/x-python",
   "name": "python",
   "nbconvert_exporter": "python",
   "pygments_lexer": "ipython3",
   "version": "3.7.6"
  }
 },
 "nbformat": 4,
 "nbformat_minor": 4
}
