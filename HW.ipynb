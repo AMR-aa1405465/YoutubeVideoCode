{
 "cells": [
  {
   "cell_type": "code",
   "execution_count": null,
   "metadata": {},
   "outputs": [],
   "source": [
    "import sqlite3"
   ]
  },
  {
   "cell_type": "markdown",
   "metadata": {},
   "source": [
    "# CREATE THE BOOK TABLE"
   ]
  },
  {
   "cell_type": "code",
   "execution_count": null,
   "metadata": {},
   "outputs": [],
   "source": [
    "connection = sqlite3.connect('weather.db')\n",
    "cursor = connection.cursor()\n",
    "cursor.execute(\n",
    "'CREATE TABLE BOOK_ (ID INTEGER PRIMARY KEY AUTOINCREMENT,TITLE VARCHAR(255)  NOT NULL,PRICE FLOAT NOT NULL,RATING INT NOT NULL, CATEGORY VARCHAR(255)  NOT NULL,CATID INTEGER  );')\n",
    "\n",
    "connection.close()"
   ]
  },
  {
   "cell_type": "code",
   "execution_count": null,
   "metadata": {},
   "outputs": [],
   "source": [
    "#CHECK IF THE TABLE IS CREATED\n",
    "connection = sqlite3.connect('weather.db')\n",
    "cursor = connection.cursor()\n",
    "cursor.execute('SELECT * FROM Book ').fetchall()"
   ]
  },
  {
   "cell_type": "markdown",
   "metadata": {},
   "source": [
    "# CREATING THE CATEGORY TABLE"
   ]
  },
  {
   "cell_type": "code",
   "execution_count": null,
   "metadata": {
    "scrolled": true
   },
   "outputs": [],
   "source": [
    "connection = sqlite3.connect('weather.db')\n",
    "cursor = connection.cursor()\n",
    "cursor.execute('CREATE TABLE CATEGORY_ (CATID INTEGER, CAT_TITLE VARCHAR(255)  )')\n",
    "connection.close()"
   ]
  },
  {
   "cell_type": "markdown",
   "metadata": {},
   "source": [
    "# Now we will edit our code to put into Database instead of CSV file"
   ]
  },
  {
   "cell_type": "code",
   "execution_count": null,
   "metadata": {},
   "outputs": [],
   "source": [
    "import requests\n",
    "from bs4 import BeautifulSoup\n",
    "import random,sqlite3\n",
    "\n",
    "url = \"http://books.toscrape.com/catalogue/category/books_1/index.html\"\n",
    "my_request = requests.get(url)\n",
    "soup = BeautifulSoup(my_request.content,'html.parser')\n",
    "global last_inserted\n",
    "\n",
    "def generate_links():\n",
    "    url = \"http://books.toscrape.com/catalogue/category/books_1/index.html\"\n",
    "    my_request2 = requests.get(url)\n",
    "    soup2 = BeautifulSoup(my_request.content,'html.parser')\n",
    "    ul = soup2.find('ul',attrs={'class':'nav nav-list'})\n",
    "    ul = ul.find('li').find('ul')\n",
    "    liS = ul.find_all('li')\n",
    "    toBeVisited=[]\n",
    "    for element in liS:\n",
    "        link = \"http://books.toscrape.com/catalogue/category/\"+element.find('a').get('href')[3:]\n",
    "        category = element.find('a').get_text().strip()\n",
    "        toBeVisited.append((link,category))\n",
    "        #print(link)\n",
    "    return toBeVisited\n",
    "    \n",
    "   \n",
    "    \n",
    "\n",
    "\n",
    "def run():\n",
    "    for link,category in generate_links():\n",
    "        print(link)\n",
    "        my_request = requests.get(link)\n",
    "        soup = BeautifulSoup(my_request.content,'html.parser')\n",
    "        myBooks = soup.find('ol',attrs={'class':'row'})\n",
    "        listOfBooks = myBooks.find_all('li',attrs={'class':'col-xs-6 col-sm-4 col-md-3 col-lg-3'})\n",
    "        titles=[]\n",
    "        prices=[]\n",
    "        ratings=[]\n",
    "        writeToCategoryDB(category)\n",
    "        i=0\n",
    "        for one_book in listOfBooks:\n",
    "            titles.append(extract_title(one_book))\n",
    "            prices.append( extract_price(one_book))\n",
    "            ratings.append( extract_rating(one_book))\n",
    "        #write to database\n",
    "            writeToBookDb(titles[i],prices[i],ratings[i],category,last_inserted)\n",
    "            i+=1\n",
    "            \n",
    "            \n",
    "        \n",
    "\n",
    "def writeToCategoryDB(category_title) :\n",
    "    global last_inserted\n",
    "    connection = sqlite3.connect('weather.db')\n",
    "    cursor = connection.cursor()\n",
    "    sql = \"INSERT INTO CATEGORY_ (TITLE) VALUES (?)\"\n",
    "    data =[category_title]\n",
    "    cursor.execute(sql,data)\n",
    "    connection.commit()\n",
    "    last_inserted = cursor.lastrowid\n",
    "    connection.close()\n",
    "    \n",
    "    \n",
    "def writeToBookDb(title,price,rating,category,category_id):\n",
    "    connection = sqlite3.connect('weather.db')\n",
    "    cursor = connection.cursor()\n",
    "    sql = \"INSERT INTO BOOK_ (TITLE,PRICE,RATING,CATEGORY,CATEGORY_ID) VALUES (?,?,?,?,?)\"\n",
    "    data = [title,price,rating,category,category_id]\n",
    "    cursor.execute(sql,data)\n",
    "    connection.commit()\n",
    "    connection.close()\n",
    "            \n",
    "            \n",
    "    \n",
    "def extract_title(li_element):\n",
    "    article=li_element.find('article')\n",
    "    h3 = article.find('h3')\n",
    "    title = h3.find('a').get('title')\n",
    "    return title.replace(',','.')\n",
    "\n",
    "def extract_price(li_element):\n",
    "    article=li_element.find('article')\n",
    "    return article.find('div',attrs={'class':'product_price'}).find('p',attrs={'class':'price_color'}).get_text()[1:]\n",
    "            \n",
    "def extract_rating(li_element):\n",
    "    article=li_element.find('article')\n",
    "    rating = article.find('p').get('class')[1]\n",
    "    return convertRatingIntoNumbers(rating)\n",
    "\n",
    "def convertRatingIntoNumbers(rating_text):\n",
    "    if rating_text.lower() == \"zero\".lower() :\n",
    "        return 0\n",
    "    if rating_text.lower() == \"One\".lower() :\n",
    "        return 1 \n",
    "    if rating_text.lower() == \"two\".lower() :\n",
    "        return 2 \n",
    "    if rating_text.lower() == \"three\".lower() :\n",
    "        return 3 \n",
    "    if rating_text.lower() == \"four\".lower() :\n",
    "        return 4 \n",
    "    if rating_text.lower() == \"five\".lower() :\n",
    "        return 5\n",
    "\n",
    "\n"
   ]
  },
  {
   "cell_type": "code",
   "execution_count": 63,
   "metadata": {},
   "outputs": [
    {
     "name": "stdout",
     "output_type": "stream",
     "text": [
      "http://books.toscrape.com/catalogue/category/books/travel_2/index.html\n",
      "http://books.toscrape.com/catalogue/category/books/mystery_3/index.html\n",
      "http://books.toscrape.com/catalogue/category/books/historical-fiction_4/index.html\n",
      "http://books.toscrape.com/catalogue/category/books/sequential-art_5/index.html\n",
      "http://books.toscrape.com/catalogue/category/books/classics_6/index.html\n",
      "http://books.toscrape.com/catalogue/category/books/philosophy_7/index.html\n",
      "http://books.toscrape.com/catalogue/category/books/romance_8/index.html\n",
      "http://books.toscrape.com/catalogue/category/books/womens-fiction_9/index.html\n",
      "http://books.toscrape.com/catalogue/category/books/fiction_10/index.html\n",
      "http://books.toscrape.com/catalogue/category/books/childrens_11/index.html\n",
      "http://books.toscrape.com/catalogue/category/books/religion_12/index.html\n",
      "http://books.toscrape.com/catalogue/category/books/nonfiction_13/index.html\n",
      "http://books.toscrape.com/catalogue/category/books/music_14/index.html\n",
      "http://books.toscrape.com/catalogue/category/books/default_15/index.html\n",
      "http://books.toscrape.com/catalogue/category/books/science-fiction_16/index.html\n",
      "http://books.toscrape.com/catalogue/category/books/sports-and-games_17/index.html\n",
      "http://books.toscrape.com/catalogue/category/books/add-a-comment_18/index.html\n",
      "http://books.toscrape.com/catalogue/category/books/fantasy_19/index.html\n",
      "http://books.toscrape.com/catalogue/category/books/new-adult_20/index.html\n",
      "http://books.toscrape.com/catalogue/category/books/young-adult_21/index.html\n",
      "http://books.toscrape.com/catalogue/category/books/science_22/index.html\n",
      "http://books.toscrape.com/catalogue/category/books/poetry_23/index.html\n",
      "http://books.toscrape.com/catalogue/category/books/paranormal_24/index.html\n",
      "http://books.toscrape.com/catalogue/category/books/art_25/index.html\n",
      "http://books.toscrape.com/catalogue/category/books/psychology_26/index.html\n",
      "http://books.toscrape.com/catalogue/category/books/autobiography_27/index.html\n",
      "http://books.toscrape.com/catalogue/category/books/parenting_28/index.html\n",
      "http://books.toscrape.com/catalogue/category/books/adult-fiction_29/index.html\n",
      "http://books.toscrape.com/catalogue/category/books/humor_30/index.html\n",
      "http://books.toscrape.com/catalogue/category/books/horror_31/index.html\n",
      "http://books.toscrape.com/catalogue/category/books/history_32/index.html\n",
      "http://books.toscrape.com/catalogue/category/books/food-and-drink_33/index.html\n",
      "http://books.toscrape.com/catalogue/category/books/christian-fiction_34/index.html\n",
      "http://books.toscrape.com/catalogue/category/books/business_35/index.html\n",
      "http://books.toscrape.com/catalogue/category/books/biography_36/index.html\n",
      "http://books.toscrape.com/catalogue/category/books/thriller_37/index.html\n",
      "http://books.toscrape.com/catalogue/category/books/contemporary_38/index.html\n",
      "http://books.toscrape.com/catalogue/category/books/spirituality_39/index.html\n",
      "http://books.toscrape.com/catalogue/category/books/academic_40/index.html\n",
      "http://books.toscrape.com/catalogue/category/books/self-help_41/index.html\n",
      "http://books.toscrape.com/catalogue/category/books/historical_42/index.html\n",
      "http://books.toscrape.com/catalogue/category/books/christian_43/index.html\n",
      "http://books.toscrape.com/catalogue/category/books/suspense_44/index.html\n",
      "http://books.toscrape.com/catalogue/category/books/short-stories_45/index.html\n",
      "http://books.toscrape.com/catalogue/category/books/novels_46/index.html\n",
      "http://books.toscrape.com/catalogue/category/books/health_47/index.html\n",
      "http://books.toscrape.com/catalogue/category/books/politics_48/index.html\n",
      "http://books.toscrape.com/catalogue/category/books/cultural_49/index.html\n",
      "http://books.toscrape.com/catalogue/category/books/erotica_50/index.html\n",
      "http://books.toscrape.com/catalogue/category/books/crime_51/index.html\n"
     ]
    }
   ],
   "source": [
    "run()"
   ]
  },
  {
   "cell_type": "code",
   "execution_count": null,
   "metadata": {},
   "outputs": [],
   "source": []
  }
 ],
 "metadata": {
  "kernelspec": {
   "display_name": "Python 3",
   "language": "python",
   "name": "python3"
  },
  "language_info": {
   "codemirror_mode": {
    "name": "ipython",
    "version": 3
   },
   "file_extension": ".py",
   "mimetype": "text/x-python",
   "name": "python",
   "nbconvert_exporter": "python",
   "pygments_lexer": "ipython3",
   "version": "3.7.4"
  }
 },
 "nbformat": 4,
 "nbformat_minor": 2
}
